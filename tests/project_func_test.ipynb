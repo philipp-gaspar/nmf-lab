{
 "cells": [
  {
   "cell_type": "code",
   "execution_count": 1,
   "metadata": {
    "collapsed": true
   },
   "outputs": [],
   "source": [
    "import numpy as np"
   ]
  },
  {
   "cell_type": "code",
   "execution_count": 10,
   "metadata": {
    "collapsed": false
   },
   "outputs": [
    {
     "name": "stdout",
     "output_type": "stream",
     "text": [
      "W:\n",
      "[[ 0.32  0.26  0.6 ]\n",
      " [ 0.25  0.19  0.09]\n",
      " [ 0.04  0.19  0.03]\n",
      " [ 0.34  0.26  0.08]\n",
      " [ 0.05  0.09  0.19]]\n"
     ]
    }
   ],
   "source": [
    "np.set_printoptions(precision=2) # set print options for NumPy\n",
    "\n",
    "n = 5\n",
    "r = 3\n",
    "\n",
    "W = abs(np.random.randn(n, r))\n",
    "norm_vec = np.sum(W, axis=0)   \n",
    "W = W / norm_vec[None, :] # normalizeing columns of W matrix\n",
    "                          # each column has sum equals to unity\n",
    "\n",
    "print('W:')\n",
    "print(W)"
   ]
  },
  {
   "cell_type": "code",
   "execution_count": 11,
   "metadata": {
    "collapsed": false
   },
   "outputs": [
    {
     "name": "stdout",
     "output_type": "stream",
     "text": [
      "The vector s will be the first column of matrix W.\n",
      "s:\n",
      "[ 0.32  0.25  0.04  0.34  0.05]\n"
     ]
    }
   ],
   "source": [
    "print('The vector s will be the first column of matrix W.')\n",
    "s = W[:,0]\n",
    "print('s:')\n",
    "print(s)"
   ]
  },
  {
   "cell_type": "code",
   "execution_count": 12,
   "metadata": {
    "collapsed": false
   },
   "outputs": [
    {
     "name": "stdout",
     "output_type": "stream",
     "text": [
      "Constant values:\n",
      "\n",
      "sparse_W: 0.85\n",
      "L1_W: 1.19\n",
      "k1: 1.00\n",
      "k2: 0.29\n"
     ]
    }
   ],
   "source": [
    "print('Constant values:\\n')\n",
    "\n",
    "sparse_W = 0.85\n",
    "print('sparse_W: %1.2f' % sparse_W)\n",
    "\n",
    "# L1 norm to achieve desired sparseness\n",
    "L1_W = np.sqrt(n) - (np.sqrt(n)-1)*sparse_W\n",
    "print('L1_W: %1.2f' % L1_W)\n",
    "\n",
    "\n",
    "k1 = sum(abs(s))\n",
    "k2 = sum(np.power(s,2))\n",
    "print('k1: %1.2f' % k1)\n",
    "print('k2: %1.2f' % k2)"
   ]
  },
  {
   "cell_type": "code",
   "execution_count": 13,
   "metadata": {
    "collapsed": false
   },
   "outputs": [],
   "source": [
    "def project_func(s, k1, k2, non_negative):\n",
    "    \"\"\"\n",
    "    Solves the following problem:\n",
    "    \n",
    "    Given a vector s, find the vector v having sum(abs(v))=k1\n",
    "    and sum(v.^2)=k2 which is the closest to s in the euclidean\n",
    "    sense.\n",
    "    \n",
    "    If the binary flag 'non-negative' is set, the vector v is\n",
    "    additionally set to be non-negative.\n",
    "    \"\"\"\n",
    "    print '---------------'\n",
    "    print('Start Function:')\n",
    "    print '---------------'\n",
    "    # problem dimension\n",
    "    N = len(s)\n",
    "        \n",
    "    if not non_negative:\n",
    "        is_negative = s<0\n",
    "        s = abs(s)\n",
    "        \n",
    "    # start by projecting the point to the sum constrained hyperplane\n",
    "    v = (s + (k1 - sum(s))) / N\n",
    "    print 'start v:'\n",
    "    print v\n",
    "    print '\\n'\n",
    "    \n",
    "    # initialize zero_coeff\n",
    "    zero_coeff = []\n",
    "    \n",
    "    j = 0\n",
    "    while True:\n",
    "        print 'zero_coeff:'\n",
    "        print zero_coeff\n",
    "        \n",
    "        midpoint = (np.ones(N)*k1) / (N - len(zero_coeff))\n",
    "        midpoint[zero_coeff] = 0\n",
    "        print 'midpoint:'\n",
    "        print midpoint\n",
    "        \n",
    "        w = v - midpoint  # vector\n",
    "        a = sum(np.power(w,2)) # scalar\n",
    "        b = 2 * (w.dot(v)) # scalar\n",
    "        c = sum(np.power(v,2)) - k2 # scalar\n",
    "        \n",
    "        b2 = np.power(b, 2)\n",
    "        ac = a * c # scalar\n",
    "        \n",
    "        print '\\nEquation:'\n",
    "        print 'b^2 = %1.2f' % b2\n",
    "        print '4ac = %1.2f' % (4 * ac)\n",
    "        delta = b2 - (4*ac)\n",
    "        print 'delta = %1.2f' % delta\n",
    "        \n",
    "        alpha = (-b + np.real(np.sqrt(delta))) / (2*a)\n",
    "        print 'alpha = %1.2f\\n' % alpha\n",
    "        \n",
    "        v = alpha*w + v\n",
    "        print 'new v:'\n",
    "        print v\n",
    "        \n",
    "        # check if all components of v are non-negative\n",
    "        if (v >= 0).all():\n",
    "            print(\"We've found our solution.\")\n",
    "            used_iters = j+1\n",
    "            break\n",
    "        \n",
    "        j = j+1\n",
    "        \n",
    "        # set negative values to zero, subtract appropriate amout from rest\n",
    "        zero_coeff = np.where(v<=0)\n",
    "        v[zero_coeff] = 0\n",
    "        \n",
    "        c = (k1 - sum(v)) / (N - len(zero_coeff))\n",
    "        v = (v + c)\n",
    "        v[zero_coeff] = 0\n",
    "        print 'v after c'\n",
    "        print v\n",
    "        \n",
    "    # if binary flag not set, return signs to the solution\n",
    "    if not non_negative:\n",
    "        v = ((-2*is_negative) + 1) * v;\n",
    "        \n",
    "    # check for problems\n",
    "    if np.max(abs(np.imag(v))) > e-10:\n",
    "        print('Somehow got imaginary values.')\n",
    "    \n",
    "    return v"
   ]
  },
  {
   "cell_type": "code",
   "execution_count": 14,
   "metadata": {
    "collapsed": false
   },
   "outputs": [
    {
     "name": "stdout",
     "output_type": "stream",
     "text": [
      "---------------\n",
      "Start Function:\n",
      "---------------\n",
      "start v:\n",
      "[ 0.1   0.09  0.04  0.11  0.05]\n",
      "\n",
      "\n",
      "zero_coeff:\n",
      "[]\n",
      "midpoint:\n",
      "[ 0.24  0.24  0.24  0.24  0.24]\n",
      "\n",
      "Equation:\n",
      "b^2 = 0.01\n",
      "4ac = -0.13\n",
      "delta = 0.15\n",
      "alpha = 1.90\n",
      "\n",
      "new v:\n",
      "[-0.16 -0.2  -0.32 -0.14 -0.31]\n",
      "v after c\n",
      "[ 0.  0.  0.  0.  0.]\n",
      "zero_coeff:\n",
      "(array([0, 1, 2, 3, 4]),)\n",
      "midpoint:\n",
      "[ 0.  0.  0.  0.  0.]\n",
      "\n",
      "Equation:\n",
      "b^2 = 0.00\n",
      "4ac = -0.00\n",
      "delta = 0.00\n",
      "alpha = nan\n",
      "\n",
      "new v:\n",
      "[ nan  nan  nan  nan  nan]\n",
      "v after c\n",
      "[ nan  nan  nan  nan  nan]\n",
      "zero_coeff:\n",
      "(array([], dtype=int64),)\n",
      "midpoint:\n",
      "[ 0.3  0.3  0.3  0.3  0.3]\n",
      "\n",
      "Equation:\n",
      "b^2 = nan\n",
      "4ac = nan\n",
      "delta = nan\n",
      "alpha = nan\n",
      "\n",
      "new v:\n",
      "[ nan  nan  nan  nan  nan]\n",
      "v after c\n",
      "[ nan  nan  nan  nan  nan]\n",
      "zero_coeff:\n",
      "(array([], dtype=int64),)\n",
      "midpoint:\n",
      "[ 0.3  0.3  0.3  0.3  0.3]\n",
      "\n",
      "Equation:\n",
      "b^2 = nan\n",
      "4ac = nan\n",
      "delta = nan\n",
      "alpha = nan\n",
      "\n",
      "new v:\n",
      "[ nan  nan  nan  nan  nan]\n",
      "v after c\n",
      "[ nan  nan  nan  nan  nan]\n",
      "zero_coeff:\n",
      "(array([], dtype=int64),)\n",
      "midpoint:\n",
      "[ 0.3  0.3  0.3  0.3  0.3]\n",
      "\n",
      "Equation:\n",
      "b^2 = nan\n",
      "4ac = nan\n",
      "delta = nan\n",
      "alpha = nan\n",
      "\n",
      "new v:\n",
      "[ nan  nan  nan  nan  nan]\n",
      "v after c\n",
      "[ nan  nan  nan  nan  nan]\n"
     ]
    },
    {
     "name": "stderr",
     "output_type": "stream",
     "text": [
      "/home/phil/Software/miniconda2/lib/python2.7/site-packages/ipykernel/__main__.py:55: RuntimeWarning: invalid value encountered in double_scalars\n",
      "/home/phil/Software/miniconda2/lib/python2.7/site-packages/ipykernel/__main__.py:63: RuntimeWarning: invalid value encountered in greater_equal\n",
      "/home/phil/Software/miniconda2/lib/python2.7/site-packages/ipykernel/__main__.py:71: RuntimeWarning: invalid value encountered in less_equal\n"
     ]
    },
    {
     "data": {
      "text/plain": [
       "array([ nan,  nan,  nan,  nan,  nan])"
      ]
     },
     "execution_count": 14,
     "metadata": {},
     "output_type": "execute_result"
    }
   ],
   "source": [
    "project_func(s, L1_W, k2, 1)"
   ]
  },
  {
   "cell_type": "code",
   "execution_count": 15,
   "metadata": {
    "collapsed": false
   },
   "outputs": [
    {
     "data": {
      "text/plain": [
       "array([[ 0.32,  0.26,  0.6 ],\n",
       "       [ 0.25,  0.19,  0.09],\n",
       "       [ 0.04,  0.19,  0.03],\n",
       "       [ 0.34,  0.26,  0.08],\n",
       "       [ 0.05,  0.09,  0.19]])"
      ]
     },
     "execution_count": 15,
     "metadata": {},
     "output_type": "execute_result"
    }
   ],
   "source": [
    "W"
   ]
  },
  {
   "cell_type": "code",
   "execution_count": 19,
   "metadata": {
    "collapsed": false
   },
   "outputs": [
    {
     "data": {
      "text/plain": [
       "array([ 0.54,  0.47,  0.65])"
      ]
     },
     "execution_count": 19,
     "metadata": {},
     "output_type": "execute_result"
    }
   ],
   "source": [
    "np.sqrt(sum(np.power(W, 2)))"
   ]
  },
  {
   "cell_type": "code",
   "execution_count": 22,
   "metadata": {
    "collapsed": false
   },
   "outputs": [
    {
     "data": {
      "text/plain": [
       "1.0000000001"
      ]
     },
     "execution_count": 22,
     "metadata": {},
     "output_type": "execute_result"
    }
   ],
   "source": [
    "1e-10 + 1"
   ]
  },
  {
   "cell_type": "code",
   "execution_count": 28,
   "metadata": {
    "collapsed": false
   },
   "outputs": [
    {
     "data": {
      "text/plain": [
       "0.25755534272942898"
      ]
     },
     "execution_count": 28,
     "metadata": {},
     "output_type": "execute_result"
    }
   ],
   "source": [
    "s.dot(s)"
   ]
  },
  {
   "cell_type": "code",
   "execution_count": null,
   "metadata": {
    "collapsed": true
   },
   "outputs": [],
   "source": []
  }
 ],
 "metadata": {
  "kernelspec": {
   "display_name": "Python 2",
   "language": "python",
   "name": "python2"
  },
  "language_info": {
   "codemirror_mode": {
    "name": "ipython",
    "version": 2
   },
   "file_extension": ".py",
   "mimetype": "text/x-python",
   "name": "python",
   "nbconvert_exporter": "python",
   "pygments_lexer": "ipython2",
   "version": "2.7.13"
  }
 },
 "nbformat": 4,
 "nbformat_minor": 1
}
