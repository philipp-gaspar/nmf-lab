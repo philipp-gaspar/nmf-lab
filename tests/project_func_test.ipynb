{
 "cells": [
  {
   "cell_type": "code",
   "execution_count": 1,
   "metadata": {
    "collapsed": true
   },
   "outputs": [],
   "source": [
    "import numpy as np"
   ]
  },
  {
   "cell_type": "code",
   "execution_count": 72,
   "metadata": {
    "collapsed": false
   },
   "outputs": [],
   "source": [
    "def project_func(s, k1, k2, non_negative):\n",
    "    \"\"\"\n",
    "    Solves the following problem:\n",
    "    \n",
    "    Given a vector s, find the vector v having sum(abs(v))=k1\n",
    "    and sum(v.^2)=k2 which is the closest to s in the euclidean\n",
    "    sense.\n",
    "    \"\"\"\n",
    "    print('Start Function:\\n')\n",
    "    # problem dimension\n",
    "    N = len(s)\n",
    "        \n",
    "    if not non_negative:\n",
    "        is_negative = s<0\n",
    "        s = abs(s)\n",
    "        \n",
    "    # start by projecting the point to the sum constrained hyperplane\n",
    "    v = (s + (k1 - sum(s))) / N\n",
    "    print 'start v:'\n",
    "    print v\n",
    "    \n",
    "    # initialize zero_coeff\n",
    "    zero_coeff = []\n",
    "    \n",
    "    j = 0\n",
    "    while True:\n",
    "        print 'zero_coeff:'\n",
    "        print zero_coeff\n",
    "        \n",
    "        midpoint = (np.ones(N)*k1) / (N - len(zero_coeff))\n",
    "        midpoint[zero_coeff] = 0\n",
    "        print 'midpoint:'\n",
    "        print midpoint\n",
    "        \n",
    "        w = v - midpoint\n",
    "        a = sum(np.power(w,2))\n",
    "        b = 2*w.T.dot(v)\n",
    "        c = sum(np.power(v,2)) - k2\n",
    "        b2 = np.power(b, 2)\n",
    "        ac = a * c \n",
    "        \n",
    "        print 'a:'\n",
    "        print a\n",
    "        print 'b2:'\n",
    "        print b2\n",
    "        print '4ac:'\n",
    "        print '%1.3f' % (4*ac)\n",
    "        \n",
    "        alpha = (-b + np.real(np.sqrt(b2 - 4*ac))) / (2*a)\n",
    "        print 'alpha:'\n",
    "        print alpha\n",
    "        \n",
    "        v = alpha*w + v\n",
    "        print 'v:'\n",
    "        print v\n",
    "        \n",
    "        j = j+1\n",
    "        \n",
    "        # set negative values to zero, subtract appropriate amout from rest\n",
    "        zero_coeff = np.where(v<=0)\n",
    "        v[zero_coeff] = 0\n",
    "        \n",
    "        c = (k1 - sum(v)) / (N - len(zero_coeff))\n",
    "        print 'c'\n",
    "        print c\n",
    "        v = (v + c)\n",
    "        print 'v'\n",
    "        print v\n",
    "        \n",
    "        print('')\n",
    "        if j == 5:\n",
    "            break\n",
    "    \n",
    "    \n",
    "    return 0"
   ]
  },
  {
   "cell_type": "code",
   "execution_count": 63,
   "metadata": {
    "collapsed": false
   },
   "outputs": [
    {
     "name": "stdout",
     "output_type": "stream",
     "text": [
      "[[ 0.147  0.263  0.202]\n",
      " [ 0.199  0.017  0.029]\n",
      " [ 0.014  0.051  0.067]\n",
      " [ 0.293  0.178  0.15 ]\n",
      " [ 0.047  0.26   0.353]\n",
      " [ 0.047  0.116  0.065]\n",
      " [ 0.236  0.017  0.109]\n",
      " [ 0.016  0.098  0.025]]\n"
     ]
    }
   ],
   "source": [
    "np.set_printoptions(precision=3)\n",
    "W = abs(np.random.randn(8, 3))\n",
    "norm_vec = np.sum(W, axis=0)\n",
    "W = W / norm_vec[None, :]\n",
    "print(W)"
   ]
  },
  {
   "cell_type": "code",
   "execution_count": 64,
   "metadata": {
    "collapsed": false
   },
   "outputs": [
    {
     "name": "stdout",
     "output_type": "stream",
     "text": [
      "8\n"
     ]
    }
   ],
   "source": [
    "s = W[:,0]\n",
    "print(len(s))"
   ]
  },
  {
   "cell_type": "code",
   "execution_count": 76,
   "metadata": {
    "collapsed": false
   },
   "outputs": [
    {
     "name": "stdout",
     "output_type": "stream",
     "text": [
      "sparse_W: 0.900\n",
      "L1_W: 1.183\n",
      "k1: 1.000\n",
      "k2: 0.208\n"
     ]
    }
   ],
   "source": [
    "sparse_W = 0.9\n",
    "print('sparse_W: %1.3f' % sparse_W)\n",
    "n = W.shape[0]\n",
    "r = W.shape[1]\n",
    "L1_W = np.sqrt(n) - (np.sqrt(n)-1)*sparse_W\n",
    "print('L1_W: %1.3f' % L1_W)\n",
    "k1 = sum(abs(s))\n",
    "k2 = sum(np.power(s,2))\n",
    "print('k1: %1.3f' % k1)\n",
    "print('k2: %1.3f' % k2)"
   ]
  },
  {
   "cell_type": "code",
   "execution_count": 77,
   "metadata": {
    "collapsed": false
   },
   "outputs": [
    {
     "name": "stdout",
     "output_type": "stream",
     "text": [
      "Start Function:\n",
      "\n",
      "start v:\n",
      "[ 0.041  0.048  0.025  0.06   0.029  0.029  0.052  0.025]\n",
      "zero_coeff:\n",
      "[]\n",
      "midpoint:\n",
      "[ 0.148  0.148  0.148  0.148  0.148  0.148  0.148  0.148]\n",
      "a:\n",
      "0.0969988298882\n",
      "b2:\n",
      "0.00419245677394\n",
      "4ac:\n",
      "-0.076\n",
      "alpha:\n",
      "1.78961271427\n",
      "v:\n",
      "[-0.15  -0.131 -0.196 -0.099 -0.184 -0.184 -0.119 -0.195]\n",
      "c\n",
      "0.168977530354\n",
      "v\n",
      "[ 0.169  0.169  0.169  0.169  0.169  0.169  0.169  0.169]\n",
      "\n",
      "zero_coeff:\n",
      "(array([0, 1, 2, 3, 4, 5, 6, 7]),)\n",
      "midpoint:\n",
      "[ 0.  0.  0.  0.  0.  0.  0.  0.]\n",
      "a:\n",
      "0.228427246115\n",
      "b2:\n",
      "0.208716027071\n",
      "4ac:\n",
      "0.019\n",
      "alpha:\n",
      "-0.0459315796953\n",
      "v:\n",
      "[ 0.161  0.161  0.161  0.161  0.161  0.161  0.161  0.161]\n",
      "c\n",
      "-0.0152694701623\n",
      "v\n",
      "[ 0.146  0.146  0.146  0.146  0.146  0.146  0.146  0.146]\n",
      "\n",
      "zero_coeff:\n",
      "(array([], dtype=int64),)\n",
      "midpoint:\n",
      "[ 0.169  0.169  0.169  0.169  0.169  0.169  0.169  0.169]\n",
      "a:\n",
      "0.00424336964989\n",
      "b2:\n",
      "0.00289233862478\n",
      "4ac:\n",
      "-0.001\n",
      "alpha:\n",
      "13.3370000002\n",
      "v:\n",
      "[-0.161 -0.161 -0.161 -0.161 -0.161 -0.161 -0.161 -0.161]\n",
      "c\n",
      "0.168977530354\n",
      "v\n",
      "[ 0.169  0.169  0.169  0.169  0.169  0.169  0.169  0.169]\n",
      "\n",
      "zero_coeff:\n",
      "(array([0, 1, 2, 3, 4, 5, 6, 7]),)\n",
      "midpoint:\n",
      "[ 0.  0.  0.  0.  0.  0.  0.  0.]\n",
      "a:\n",
      "0.228427246115\n",
      "b2:\n",
      "0.208716027071\n",
      "4ac:\n",
      "0.019\n",
      "alpha:\n",
      "-0.0459315796953\n",
      "v:\n",
      "[ 0.161  0.161  0.161  0.161  0.161  0.161  0.161  0.161]\n",
      "c\n",
      "-0.0152694701623\n",
      "v\n",
      "[ 0.146  0.146  0.146  0.146  0.146  0.146  0.146  0.146]\n",
      "\n",
      "zero_coeff:\n",
      "(array([], dtype=int64),)\n",
      "midpoint:\n",
      "[ 0.169  0.169  0.169  0.169  0.169  0.169  0.169  0.169]\n",
      "a:\n",
      "0.00424336964989\n",
      "b2:\n",
      "0.00289233862478\n",
      "4ac:\n",
      "-0.001\n",
      "alpha:\n",
      "13.3370000002\n",
      "v:\n",
      "[-0.161 -0.161 -0.161 -0.161 -0.161 -0.161 -0.161 -0.161]\n",
      "c\n",
      "0.168977530354\n",
      "v\n",
      "[ 0.169  0.169  0.169  0.169  0.169  0.169  0.169  0.169]\n",
      "\n"
     ]
    },
    {
     "data": {
      "text/plain": [
       "0"
      ]
     },
     "execution_count": 77,
     "metadata": {},
     "output_type": "execute_result"
    }
   ],
   "source": [
    "project_func(s, L1_W, k2, 1)"
   ]
  },
  {
   "cell_type": "code",
   "execution_count": 28,
   "metadata": {
    "collapsed": false
   },
   "outputs": [
    {
     "data": {
      "text/plain": [
       "0.19356601717798214"
      ]
     },
     "execution_count": 28,
     "metadata": {},
     "output_type": "execute_result"
    }
   ],
   "source": []
  },
  {
   "cell_type": "code",
   "execution_count": null,
   "metadata": {
    "collapsed": true
   },
   "outputs": [],
   "source": []
  }
 ],
 "metadata": {
  "kernelspec": {
   "display_name": "Python 2",
   "language": "python",
   "name": "python2"
  },
  "language_info": {
   "codemirror_mode": {
    "name": "ipython",
    "version": 2
   },
   "file_extension": ".py",
   "mimetype": "text/x-python",
   "name": "python",
   "nbconvert_exporter": "python",
   "pygments_lexer": "ipython2",
   "version": "2.7.13"
  }
 },
 "nbformat": 4,
 "nbformat_minor": 1
}
